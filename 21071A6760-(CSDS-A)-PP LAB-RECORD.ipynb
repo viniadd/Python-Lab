{
 "cells": [
  {
   "cell_type": "code",
   "execution_count": 1,
   "id": "4f22cb81",
   "metadata": {},
   "outputs": [],
   "source": [
    "#RUNNING INSTRUCTIONS\n",
    "#1a.shift+enter->Run cell\n",
    "#1b.cntr+s->save\n",
    "#1c.cntrl+m+b->new cell\n",
    "#1d.cntrl+m+d->delete cell\n",
    "#1e.shift+/->comment"
   ]
  },
  {
   "cell_type": "code",
   "execution_count": 2,
   "id": "a2f0d11c",
   "metadata": {},
   "outputs": [
    {
     "ename": "IndentationError",
     "evalue": "expected an indented block (2785144027.py, line 6)",
     "output_type": "error",
     "traceback": [
      "\u001b[1;36m  Input \u001b[1;32mIn [2]\u001b[1;36m\u001b[0m\n\u001b[1;33m    print(\"odd number\")\u001b[0m\n\u001b[1;37m    ^\u001b[0m\n\u001b[1;31mIndentationError\u001b[0m\u001b[1;31m:\u001b[0m expected an indented block\n"
     ]
    }
   ],
   "source": [
    "#2(A).error code\n",
    "n=int(input(\"enter number:\"))\n",
    "if n%2==0:\n",
    "    print(\"even number\")\n",
    "else:\n",
    "print(\"odd number\")"
   ]
  },
  {
   "cell_type": "code",
   "execution_count": 3,
   "id": "84de8b23",
   "metadata": {},
   "outputs": [
    {
     "name": "stdout",
     "output_type": "stream",
     "text": [
      "enter number:5\n",
      "odd number\n"
     ]
    }
   ],
   "source": [
    "#2.(b)correction code\n",
    "n=int(input(\"enter number:\"))\n",
    "if n%2==0:\n",
    "    print(\"even number\")\n",
    "else:\n",
    "    print(\"odd number\")"
   ]
  },
  {
   "cell_type": "code",
   "execution_count": 4,
   "id": "a6437730",
   "metadata": {},
   "outputs": [
    {
     "name": "stdout",
     "output_type": "stream",
     "text": [
      "enter first number346\n",
      "enter second number222\n",
      "2\n"
     ]
    }
   ],
   "source": [
    "#3.GCD OF TWO NUMBERS\n",
    "def gcd(a,b):\n",
    "    if a==0:\n",
    "        return b\n",
    "    return gcd(b%a,a)\n",
    "a=int(input('enter first number'))\n",
    "b=int(input('enter second number'))\n",
    "res=gcd(a,b)\n",
    "print(res)"
   ]
  },
  {
   "cell_type": "code",
   "execution_count": 5,
   "id": "c58c7ad9",
   "metadata": {},
   "outputs": [
    {
     "ename": "AttributeError",
     "evalue": "module 'sys' has no attribute 'arg'",
     "output_type": "error",
     "traceback": [
      "\u001b[1;31m---------------------------------------------------------------------------\u001b[0m",
      "\u001b[1;31mAttributeError\u001b[0m                            Traceback (most recent call last)",
      "Input \u001b[1;32mIn [5]\u001b[0m, in \u001b[0;36m<cell line: 3>\u001b[1;34m()\u001b[0m\n\u001b[0;32m      1\u001b[0m \u001b[38;5;66;03m#4.ADD PY\u001b[39;00m\n\u001b[0;32m      2\u001b[0m \u001b[38;5;28;01mimport\u001b[39;00m \u001b[38;5;21;01msys\u001b[39;00m\n\u001b[1;32m----> 3\u001b[0m x\u001b[38;5;241m=\u001b[39m\u001b[38;5;28mint\u001b[39m(\u001b[43msys\u001b[49m\u001b[38;5;241;43m.\u001b[39;49m\u001b[43marg\u001b[49m[v])\n\u001b[0;32m      4\u001b[0m y\u001b[38;5;241m=\u001b[39m\u001b[38;5;28mint\u001b[39m(sys\u001b[38;5;241m.\u001b[39margv[\u001b[38;5;241m2\u001b[39m])\n\u001b[0;32m      5\u001b[0m \u001b[38;5;28msum\u001b[39m\u001b[38;5;241m=\u001b[39mx\u001b[38;5;241m+\u001b[39my\n",
      "\u001b[1;31mAttributeError\u001b[0m: module 'sys' has no attribute 'arg'"
     ]
    }
   ],
   "source": [
    "#4.ADD PY\n",
    "import sys\n",
    "x=int(sys.arg[v])\n",
    "y=int(sys.argv[2])\n",
    "sum=x+y"
   ]
  },
  {
   "cell_type": "code",
   "execution_count": 6,
   "id": "5c6b8e2b",
   "metadata": {},
   "outputs": [
    {
     "name": "stdout",
     "output_type": "stream",
     "text": [
      "8\n",
      "even number\n"
     ]
    }
   ],
   "source": [
    "#5.EVEN OR NOT\n",
    "n=int(input())\n",
    "if(n%2==0):\n",
    "    print(\"even number\")\n",
    "else:\n",
    "    print(\"odd number\")"
   ]
  },
  {
   "cell_type": "code",
   "execution_count": 7,
   "id": "4ba3511f",
   "metadata": {},
   "outputs": [
    {
     "name": "stdout",
     "output_type": "stream",
     "text": [
      "enter the number: 23\n",
      "012345678910111213141516171819202122"
     ]
    }
   ],
   "source": [
    "#6.LOOP OVER A SEQUENCE\n",
    "n=int(input('enter the number: '))\n",
    "for i in range(n):\n",
    "    print(i,end=\"\")"
   ]
  },
  {
   "cell_type": "code",
   "execution_count": 8,
   "id": "f79dc054",
   "metadata": {},
   "outputs": [
    {
     "name": "stdout",
     "output_type": "stream",
     "text": [
      "enter number of terms8\n",
      "0\n",
      "1\n",
      "1\n",
      "2\n",
      "3\n",
      "5\n",
      "8\n",
      "13\n"
     ]
    }
   ],
   "source": [
    "#7.FIBONACCI SEQUENCE USING LOOPS\n",
    "n=int(input(\"enter number of terms\"))\n",
    "count=0\n",
    "n1=0\n",
    "n2=1\n",
    "while count<n:\n",
    "    print(n1)\n",
    "    temp=n1+n2\n",
    "    n1=n2\n",
    "    n2=temp\n",
    "    count+=1"
   ]
  },
  {
   "cell_type": "code",
   "execution_count": 9,
   "id": "75957ba6",
   "metadata": {},
   "outputs": [
    {
     "name": "stdout",
     "output_type": "stream",
     "text": [
      "enter the range:0 30\n",
      "2 3 5 7 11 13 17 19 23 29 "
     ]
    }
   ],
   "source": [
    "#8.PRIME NUMBERS IN GIVEN RANGE\n",
    "n,m=map(int,input(\"enter the range:\").split())\n",
    "for i in range(n,m):\n",
    "    if i>1:\n",
    "        for j in range(2,i):\n",
    "            if(i%j)==0:\n",
    "                break\n",
    "        else:\n",
    "            print(i,end=\" \")"
   ]
  },
  {
   "cell_type": "code",
   "execution_count": 10,
   "id": "ccaecab4",
   "metadata": {},
   "outputs": [
    {
     "name": "stdout",
     "output_type": "stream",
     "text": [
      "14.857142857142858\n",
      "9\n",
      "4\n"
     ]
    }
   ],
   "source": [
    "#9.MEAN,MODE,MEDIAN\n",
    "l=[2,44,8,9,4,33,4]\n",
    "mean=sum(l)/len(l)\n",
    "median=l[len(l)//2]\n",
    "mode=max(set(l),key=l.count)\n",
    "print(mean)\n",
    "print(median)\n",
    "print(mode)"
   ]
  },
  {
   "cell_type": "code",
   "execution_count": 11,
   "id": "3a9c7a4d",
   "metadata": {},
   "outputs": [
    {
     "name": "stdout",
     "output_type": "stream",
     "text": [
      "[ 2  3  5  7 89  5]\n",
      "[ 4 88  1  6 90  2]\n"
     ]
    }
   ],
   "source": [
    "#10.CONVERTING LIST & TUPLE INTO ARRAY\n",
    "import numpy as np\n",
    "li=[2,3,5,7,89,5]\n",
    "tup=(4,88,1,6,90,2)\n",
    "arr=np.array(li)\n",
    "arr1=np.array(tup)\n",
    "print(arr)\n",
    "print(arr1)"
   ]
  },
  {
   "cell_type": "code",
   "execution_count": 12,
   "id": "2193bc49",
   "metadata": {},
   "outputs": [
    {
     "name": "stdout",
     "output_type": "stream",
     "text": [
      "1 2 3 4\n",
      "2 3 4\n",
      "{2, 3, 4}\n"
     ]
    }
   ],
   "source": [
    "#11.COMMON VALUES BETWEEN TWO ARRAYS\n",
    "l1=[int(x) for x in input().split()]\n",
    "l2=[int(x) for x in input().split()]\n",
    "common=[]\n",
    "for i in l1:\n",
    "    if i in l2:\n",
    "        common.append(i)\n",
    "print(set(common))"
   ]
  },
  {
   "cell_type": "code",
   "execution_count": 13,
   "id": "2eb12722",
   "metadata": {},
   "outputs": [
    {
     "name": "stdout",
     "output_type": "stream",
     "text": [
      "VINEETHA\n",
      "{'V': 1, 'I': 1, 'N': 1, 'E': 2, 'T': 1, 'H': 1, 'A': 1}\n"
     ]
    }
   ],
   "source": [
    "#12.COUNT NUMBER OF CHARACTERS IN STRING AND STORE TTHEM IN DICTIONARY DATA STRUCTURE\n",
    "dic={}\n",
    "st=input()\n",
    "st_li=list(st)\n",
    "for i in st_li:\n",
    "    if i not in dic:\n",
    "        dic[i]=1\n",
    "    else:\n",
    "        dic[i]=dic[i]+1\n",
    "print(dic)"
   ]
  },
  {
   "cell_type": "code",
   "execution_count": 14,
   "id": "3d7605b3",
   "metadata": {},
   "outputs": [
    {
     "name": "stdout",
     "output_type": "stream",
     "text": [
      "enter first list: V I N I\n",
      "enter second list: 1 2 3 4\n",
      "{'V': 1, 'I': 4, 'N': 3}\n"
     ]
    }
   ],
   "source": [
    "#13.COMBINE LIST INTO DICTIONARY\n",
    "l1=[(x) for x in input(\"enter first list: \").split()]\n",
    "l2=[int(x) for x in input(\"enter second list: \").split()]\n",
    "dic={}\n",
    "for i in l1:\n",
    "    for j in l2:\n",
    "        dic[i]=j\n",
    "        l2.remove(j)\n",
    "        break\n",
    "print(dic)"
   ]
  },
  {
   "cell_type": "code",
   "execution_count": 15,
   "id": "5ba5e13b",
   "metadata": {},
   "outputs": [
    {
     "name": "stdout",
     "output_type": "stream",
     "text": [
      "enter the string: VINI\n",
      "enter charcater: D\n",
      "n0! it doesn't start with charcater\n"
     ]
    }
   ],
   "source": [
    "#14.STARTING CHARACTER OF STRING\n",
    "st=input(\"enter the string: \")\n",
    "ch=input(\"enter charcater: \")\n",
    "if(st[0]==ch):\n",
    "    print(\"yes ! string starts with charachter\")\n",
    "else:\n",
    "    print(\"n0! it doesn't start with charcater\")"
   ]
  },
  {
   "cell_type": "code",
   "execution_count": 16,
   "id": "5e42194e",
   "metadata": {},
   "outputs": [
    {
     "name": "stdout",
     "output_type": "stream",
     "text": [
      "enter the string: MOM\n",
      "palindrom\n"
     ]
    }
   ],
   "source": [
    "#15.PALINDROM OR NOT\n",
    "s=input(\"enter the string: \")\n",
    "s=s.lower()\n",
    "rev_s=s[::-1]\n",
    "if(s==rev_s):\n",
    "    print(\"palindrom\")\n",
    "else:\n",
    "    print(\"not palindrome\")"
   ]
  },
  {
   "cell_type": "code",
   "execution_count": 17,
   "id": "6446defc",
   "metadata": {},
   "outputs": [
    {
     "name": "stdout",
     "output_type": "stream",
     "text": [
      "enter the string: I'm a good girl\n",
      "I'm.a.good.girl\n"
     ]
    }
   ],
   "source": [
    "#16.SPLIT & JOIN THE STRING\n",
    "s=input(\"enter the string: \")\n",
    "s_li=s.split(\" \")\n",
    "res_s=\".\".join(s_li)\n",
    "print(res_s)"
   ]
  },
  {
   "cell_type": "code",
   "execution_count": 18,
   "id": "014a0606",
   "metadata": {},
   "outputs": [
    {
     "name": "stdout",
     "output_type": "stream",
     "text": [
      "enter the string: hi a bcd\n",
      "['a', 'bcd', 'hi']\n"
     ]
    }
   ],
   "source": [
    "#17.SORT WORDS IN ALPHABETICAL ORDER\n",
    "s=input(\"enter the string: \")\n",
    "s_li=s.split(\" \")\n",
    "sor_s=sorted(s_li)\n",
    "print(sor_s)"
   ]
  },
  {
   "cell_type": "code",
   "execution_count": 19,
   "id": "ef5cce0e",
   "metadata": {},
   "outputs": [
    {
     "ename": "FileNotFoundError",
     "evalue": "[Errno 2] No such file or directory: 'file.txt'",
     "output_type": "error",
     "traceback": [
      "\u001b[1;31m---------------------------------------------------------------------------\u001b[0m",
      "\u001b[1;31mFileNotFoundError\u001b[0m                         Traceback (most recent call last)",
      "Input \u001b[1;32mIn [19]\u001b[0m, in \u001b[0;36m<cell line: 2>\u001b[1;34m()\u001b[0m\n\u001b[0;32m      1\u001b[0m \u001b[38;5;66;03m#18.EACH LINE OF A FILE IN REVERSE ORDER\u001b[39;00m\n\u001b[1;32m----> 2\u001b[0m f\u001b[38;5;241m=\u001b[39m\u001b[38;5;28;43mopen\u001b[39;49m\u001b[43m(\u001b[49m\u001b[38;5;124;43m\"\u001b[39;49m\u001b[38;5;124;43mfile.txt\u001b[39;49m\u001b[38;5;124;43m\"\u001b[39;49m\u001b[43m,\u001b[49m\u001b[38;5;124;43m\"\u001b[39;49m\u001b[38;5;124;43mr\u001b[39;49m\u001b[38;5;124;43m\"\u001b[39;49m\u001b[43m)\u001b[49m\n\u001b[0;32m      3\u001b[0m s\u001b[38;5;241m=\u001b[39m\u001b[38;5;124m\"\u001b[39m\u001b[38;5;124m\"\u001b[39m\n\u001b[0;32m      4\u001b[0m \u001b[38;5;28;01mfor\u001b[39;00m i \u001b[38;5;129;01min\u001b[39;00m f:\n",
      "\u001b[1;31mFileNotFoundError\u001b[0m: [Errno 2] No such file or directory: 'file.txt'"
     ]
    }
   ],
   "source": [
    "#18.EACH LINE OF A FILE IN REVERSE ORDER\n",
    "f=open(\"file.txt\",\"r\")\n",
    "s=\"\"\n",
    "for i in f:\n",
    " s=s+i[::-1]\n",
    "print(\"Reverse String\",s)\n",
    "f.close()"
   ]
  },
  {
   "cell_type": "code",
   "execution_count": 20,
   "id": "17110665",
   "metadata": {},
   "outputs": [
    {
     "ename": "FileNotFoundError",
     "evalue": "[Errno 2] No such file or directory: 'file.txt'",
     "output_type": "error",
     "traceback": [
      "\u001b[1;31m---------------------------------------------------------------------------\u001b[0m",
      "\u001b[1;31mFileNotFoundError\u001b[0m                         Traceback (most recent call last)",
      "Input \u001b[1;32mIn [20]\u001b[0m, in \u001b[0;36m<cell line: 2>\u001b[1;34m()\u001b[0m\n\u001b[0;32m      1\u001b[0m \u001b[38;5;66;03m#19.number of charcters,word & lines\u001b[39;00m\n\u001b[1;32m----> 2\u001b[0m f\u001b[38;5;241m=\u001b[39m\u001b[38;5;28;43mopen\u001b[39;49m\u001b[43m(\u001b[49m\u001b[38;5;124;43m\"\u001b[39;49m\u001b[38;5;124;43mfile.txt\u001b[39;49m\u001b[38;5;124;43m\"\u001b[39;49m\u001b[43m,\u001b[49m\u001b[38;5;124;43m\"\u001b[39;49m\u001b[38;5;124;43mr\u001b[39;49m\u001b[38;5;124;43m\"\u001b[39;49m\u001b[43m)\u001b[49m\n\u001b[0;32m      3\u001b[0m s\u001b[38;5;241m=\u001b[39m\u001b[38;5;124m\"\u001b[39m\u001b[38;5;124m\"\u001b[39m\n\u001b[0;32m      4\u001b[0m \u001b[38;5;28;01mfor\u001b[39;00m i \u001b[38;5;129;01min\u001b[39;00m f:\n",
      "\u001b[1;31mFileNotFoundError\u001b[0m: [Errno 2] No such file or directory: 'file.txt'"
     ]
    }
   ],
   "source": [
    "#19.number of charcters,word & lines\n",
    "f=open(\"file.txt\",\"r\")\n",
    "s=\"\"\n",
    "for i in f:\n",
    " s=s+i\n",
    "print(\"Number of characters:\",len(s)-s.count(' '))\n",
    "print(\"Number of words:\",s.count(' '))\n",
    "print(\"Number of lines:\",s.count('\\n'))"
   ]
  },
  {
   "cell_type": "code",
   "execution_count": 21,
   "id": "349079ea",
   "metadata": {},
   "outputs": [
    {
     "ename": "FileNotFoundError",
     "evalue": "[Errno 2] No such file or directory: 'file.txt'",
     "output_type": "error",
     "traceback": [
      "\u001b[1;31m---------------------------------------------------------------------------\u001b[0m",
      "\u001b[1;31mFileNotFoundError\u001b[0m                         Traceback (most recent call last)",
      "Input \u001b[1;32mIn [21]\u001b[0m, in \u001b[0;36m<cell line: 2>\u001b[1;34m()\u001b[0m\n\u001b[0;32m      1\u001b[0m \u001b[38;5;66;03m#20.FREQUENCY OF CHARACHTERS IN FILE\u001b[39;00m\n\u001b[1;32m----> 2\u001b[0m f\u001b[38;5;241m=\u001b[39m\u001b[38;5;28;43mopen\u001b[39;49m\u001b[43m(\u001b[49m\u001b[38;5;124;43m\"\u001b[39;49m\u001b[38;5;124;43mfile.txt\u001b[39;49m\u001b[38;5;124;43m\"\u001b[39;49m\u001b[43m,\u001b[49m\u001b[38;5;124;43m\"\u001b[39;49m\u001b[38;5;124;43mr\u001b[39;49m\u001b[38;5;124;43m\"\u001b[39;49m\u001b[43m)\u001b[49m\n\u001b[0;32m      3\u001b[0m s\u001b[38;5;241m=\u001b[39m\u001b[38;5;124m\"\u001b[39m\u001b[38;5;124m\"\u001b[39m\n\u001b[0;32m      4\u001b[0m \u001b[38;5;28;01mfor\u001b[39;00m i \u001b[38;5;129;01min\u001b[39;00m f:\n",
      "\u001b[1;31mFileNotFoundError\u001b[0m: [Errno 2] No such file or directory: 'file.txt'"
     ]
    }
   ],
   "source": [
    "#20.FREQUENCY OF CHARACHTERS IN FILE\n",
    "f=open(\"file.txt\",\"r\")\n",
    "s=\"\"\n",
    "for i in f:\n",
    " s=s+i\n",
    "d={}\n",
    "for i in s:\n",
    "    if i in d:\n",
    "        d[i]+=1\n",
    "    else:\n",
    "        d[i]=1\n",
    "print(d)"
   ]
  },
  {
   "cell_type": "code",
   "execution_count": 22,
   "id": "be0882be",
   "metadata": {},
   "outputs": [
    {
     "name": "stdout",
     "output_type": "stream",
     "text": [
      "1.addition\n",
      "2.subtraction\n",
      "3.multiplication\n",
      "4.division\n",
      "3\n",
      "enter first number: 9\n",
      "enter second number: 6\n",
      "54\n"
     ]
    }
   ],
   "source": [
    "#21.SIMPLE CALCULATOR USING FUNCTIONS\n",
    "def add(x,y):\n",
    "    print(x+y)\n",
    "def sub(x,y):\n",
    "    print(x-y)\n",
    "def mult(x,y):\n",
    "    print(x*y)\n",
    "def div(x,y):\n",
    "    print(x/y)\n",
    "print(\"1.addition\\n2.subtraction\\n3.multiplication\\n4.division\")\n",
    "n=int(input())\n",
    "x=int(input(\"enter first number: \"))\n",
    "y=int(input(\"enter second number: \"))\n",
    "if(n==1):\n",
    "    add(x,y)\n",
    "elif n==2:\n",
    "    sub(x,y)\n",
    "elif n==3:\n",
    "    mult(x,y)\n",
    "elif n==4:\n",
    "    div(x,y)\n",
    "else:\n",
    "    print(\"no option\")"
   ]
  },
  {
   "cell_type": "code",
   "execution_count": 23,
   "id": "aadfe69b",
   "metadata": {},
   "outputs": [
    {
     "name": "stdout",
     "output_type": "stream",
     "text": [
      "enter the number: 5\n",
      "120\n"
     ]
    }
   ],
   "source": [
    "#22.FACTORIAL USING RECURSION\n",
    "def factorial(n):\n",
    "    if(n==0):\n",
    "        return 1\n",
    "    elif(n==1):\n",
    "        return 1\n",
    "    else:\n",
    "        return n*factorial(n-1)\n",
    "n=int(input(\"enter the number: \"))\n",
    "res=factorial(n)\n",
    "print(res)"
   ]
  },
  {
   "cell_type": "code",
   "execution_count": 24,
   "id": "45b1c718",
   "metadata": {},
   "outputs": [
    {
     "name": "stdout",
     "output_type": "stream",
     "text": [
      "1 5 5 3 1 1 8 9 5\n",
      "[1, 5]\n"
     ]
    }
   ],
   "source": [
    "#23.DUPLICATES IN LIST\n",
    "def duplicate(lis):\n",
    "    li_se=set(lis)\n",
    "    for i in li_se:\n",
    "        if(lis.count(i)>1):\n",
    "            res_li.append(i)\n",
    "    return res_li\n",
    "li=[int(x) for x in input().split()]\n",
    "res_li=[]\n",
    "result=duplicate(li)\n",
    "print(result)"
   ]
  },
  {
   "cell_type": "code",
   "execution_count": 25,
   "id": "dab96aea",
   "metadata": {},
   "outputs": [
    {
     "name": "stdout",
     "output_type": "stream",
     "text": [
      "33 2 6 7 8 9 4 56 87 22 5 7 9 4\n",
      "[33, 2, 5, 6, 8, 22, 87, 56]\n"
     ]
    }
   ],
   "source": [
    "#24.UNIQUE ELEMENTS OF A LIST\n",
    "def unique(lis):\n",
    "    li_se=set(lis)\n",
    "    for i in li_se:\n",
    "        if(lis.count(i)==1):\n",
    "            res_li.append(i)\n",
    "    return res_li\n",
    "li=[int(x) for x in input().split()]\n",
    "res_li=[]\n",
    "result=unique(li)\n",
    "print(result)"
   ]
  },
  {
   "cell_type": "code",
   "execution_count": 26,
   "id": "f852b7bd",
   "metadata": {},
   "outputs": [
    {
     "name": "stdout",
     "output_type": "stream",
     "text": [
      "4 5 8\n",
      "160\n"
     ]
    }
   ],
   "source": [
    "#25.CUMMULATIVE PRODUCT OF A LIST\n",
    "def cummulative_product(lis):\n",
    "    mul=1\n",
    "    for i in lis:\n",
    "        mul=i*mul\n",
    "    return mul\n",
    "li=[int(x) for x in input().split()]\n",
    "result =cummulative_product(li)\n",
    "print(result)"
   ]
  },
  {
   "cell_type": "code",
   "execution_count": null,
   "id": "0fb737c6",
   "metadata": {},
   "outputs": [],
   "source": []
  },
  {
   "cell_type": "code",
   "execution_count": 2,
   "id": "06196c35",
   "metadata": {},
   "outputs": [
    {
     "name": "stdout",
     "output_type": "stream",
     "text": [
      "4 5 6 3 2 1\n",
      "[1, 2, 3, 6, 5, 4]\n"
     ]
    }
   ],
   "source": [
    "#26.REVERSE ORDER OF LIST\n",
    "def reverse(lis):\n",
    "    orgi_li=lis\n",
    "    for i in range(len(orgi_li)):\n",
    "        rev_lis.append(lis.pop())\n",
    "    return rev_lis\n",
    "li=[int(x) for x in input().split()]\n",
    "rev_lis=[]\n",
    "result =reverse(li)\n",
    "print(result)"
   ]
  },
  {
   "cell_type": "code",
   "execution_count": 1,
   "id": "d39cf868",
   "metadata": {},
   "outputs": [
    {
     "name": "stdout",
     "output_type": "stream",
     "text": [
      "Enter first number:44\n",
      "Enter second number:990\n",
      "1980 22\n"
     ]
    }
   ],
   "source": [
    "#27.GCD &LCM OF TWO NUMBERS\n",
    "def gcd(a,b):\n",
    "    if a == 0:\n",
    "        return b\n",
    "    return gcd(b % a, a)\n",
    "def lcm(res1):\n",
    "    return (a // res1)* b\n",
    "a=int(input(\"Enter first number:\"))\n",
    "b=int(input(\"Enter second number:\"))\n",
    "res1=gcd(a,b)\n",
    "res2=lcm(res1)\n",
    "print(res2,res1)"
   ]
  }
 ],
 "metadata": {
  "kernelspec": {
   "display_name": "Python 3 (ipykernel)",
   "language": "python",
   "name": "python3"
  },
  "language_info": {
   "codemirror_mode": {
    "name": "ipython",
    "version": 3
   },
   "file_extension": ".py",
   "mimetype": "text/x-python",
   "name": "python",
   "nbconvert_exporter": "python",
   "pygments_lexer": "ipython3",
   "version": "3.9.12"
  }
 },
 "nbformat": 4,
 "nbformat_minor": 5
}
